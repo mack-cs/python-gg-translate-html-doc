{
 "cells": [
  {
   "cell_type": "code",
   "execution_count": 36,
   "id": "cdc10a91",
   "metadata": {
    "scrolled": true
   },
   "outputs": [
    {
     "name": "stdout",
     "output_type": "stream",
     "text": [
      "classcentral\\report\\category\\best-courses.html completed!\n",
      "classcentral\\report\\category\\mooc-course-report.html completed!\n",
      "classcentral\\report\\category\\reviews.html completed!\n"
     ]
    }
   ],
   "source": [
    "import os\n",
    "from bs4 import BeautifulSoup\n",
    "from googletrans import Translator\n",
    "\n",
    "# Read the HTML content from a file\n",
    "\n",
    "source = \"classcentral\\\\report\\\\category\"\n",
    "dest = \"classcentral\\\\report\\\\category\"\n",
    "for file_name in os.listdir(source):\n",
    "    src_file = os.path.join(source, file_name)\n",
    "    with open(src_file, \"r\", encoding='utf-8') as f:\n",
    "        html_content = f.read()\n",
    "\n",
    "    # Create a BeautifulSoup object to parse the HTML content\n",
    "    soup = BeautifulSoup(html_content, 'html.parser')\n",
    "\n",
    "    # Find all the checkbox_label elements and translate their contents to Hindi\n",
    "    translator = Translator()\n",
    "    for checkbox_label in soup.find_all('li',class_=\"inline\"):\n",
    "        hindi_text = translator.translate(checkbox_label.text, src='en', dest='hi').text\n",
    "        checkbox_label.string = hindi_text\n",
    "\n",
    "    # Save the updated HTML content to a new file\n",
    "    # output_path = os.path.join(os.path.dirname(file_path), \"output.html\")\n",
    "    dest_path = os.path.join(dest, file_name)\n",
    "    done =  False\n",
    "    with open(dest_path, \"w\", encoding='utf-8') as file:\n",
    "        file.write(soup.prettify())\n",
    "        done = True\n",
    "        print(dest_path + \" completed!\")\n"
   ]
  },
  {
   "cell_type": "code",
   "execution_count": null,
   "id": "b71323a9",
   "metadata": {},
   "outputs": [],
   "source": [
    "div class=\"time class=\"inline-block color-gray\""
   ]
  },
  {
   "cell_type": "code",
   "execution_count": null,
   "id": "d0f74639",
   "metadata": {},
   "outputs": [],
   "source": [
    "<li class=\"inline color-gray weight-semi\" itemtype=\"http://data-vocabulary.org/Breadcrumb\">\n",
    "      Best Courses Guides\n",
    "     </li>"
   ]
  },
  {
   "cell_type": "code",
   "execution_count": null,
   "id": "3db6733d",
   "metadata": {},
   "outputs": [],
   "source": [
    "import os\n",
    "from bs4 import BeautifulSoup\n",
    "from googletrans import Translator\n",
    "\n",
    "# Read the HTML content from a file\n",
    "def translate_language(src, dest, tag, class_, src_lang, dest_lang):\n",
    "    \"\"\"\n",
    "        This function reads HTML file, accepts html tag and css class, \n",
    "        loops over al the occurances of the tag transform all the text to agiven language\n",
    "    \"\"\"\n",
    "    for file_name in os.listdir(src):\n",
    "        src_file = os.path.join(src, file_name)\n",
    "        with open(src_file, \"r\", encoding='utf-8') as f:\n",
    "            html_content = f.read()\n",
    "\n",
    "        # Create a BeautifulSoup object to parse the HTML content\n",
    "        soup = BeautifulSoup(html_content, 'html.parser')\n",
    "\n",
    "        # Find all the checkbox_label elements and translate their contents to Hindi\n",
    "        translator = Translator()\n",
    "        for checkbox_label in soup.find_all(tag,class_=class_):\n",
    "            hindi_text = translator.translate(checkbox_label.text, src=src_lang, dest=dest_lang).text\n",
    "            checkbox_label.string = hindi_text\n",
    "\n",
    "        # Save the updated HTML content to a new file\n",
    "        # dest_path = os.path.join(os.path.dirname(file_path), \"dest_path.html\")\n",
    "        dest_path = os.path.join(dest, file_name)\n",
    "        done =  False\n",
    "        with open(dest_path, \"w\", encoding='utf-8') as file:\n",
    "            file.write(soup.prettify())\n",
    "            done = True\n",
    "            print(dest_path + \" translated!\")\n"
   ]
  },
  {
   "cell_type": "code",
   "execution_count": null,
   "id": "eaa1047f",
   "metadata": {},
   "outputs": [],
   "source": []
  },
  {
   "cell_type": "code",
   "execution_count": null,
   "id": "26c0a163",
   "metadata": {},
   "outputs": [],
   "source": [
    "from googletrans import Translator\n",
    "from bs4 import BeautifulSoup\n",
    "import os\n",
    "\n",
    "# Open the HTML file\n",
    "src = 'classcentral\\\\about'\n",
    "dest = \"classcentral\\\\about\"\n",
    "tags = ['strong','title','p','li','a','h1','h2','h3','span','button']\n",
    "\n",
    "def multi_tag_translator(src, dest, dest_lang, tags):\n",
    "    \n",
    "    for file_name in os.listdir(src):\n",
    "        src_file = os.path.join(src,file_name)\n",
    "        with open(src_file, \"r\", encoding=\"utf8\") as file:\n",
    "            # Read the contents of the file into a string\n",
    "            html = file.read()\n",
    "        soup = BeautifulSoup(html, 'html.parser')\n",
    "\n",
    "        # extract the text from the HTML\n",
    "        text = soup.get_text()\n",
    "        # Initialize the Google Translate API\n",
    "        translator = Translator()\n",
    "        \n",
    "        for tag in tags:\n",
    "            # Loop over all elements with the specified tag in the HTML document\n",
    "            for element in soup.find_all(tag):\n",
    "                # Get the current text content of the element\n",
    "                text = element.get_text()\n",
    "\n",
    "                # Replace the &nbsp; and &amp; characters with a placeholder string\n",
    "                text_with_placeholder = text.replace('&nbsp;', '[nbsp]').replace('&amp;', '[amp]')\n",
    "\n",
    "                # Translate the text content using Google Translate\n",
    "                translated_text = translator.translate(text_with_placeholder, dest=dest_lang).text\n",
    "\n",
    "                # Replace the placeholder string with the original characters\n",
    "                translated_text_with_originals = translated_text.replace('[nbsp]', '&nbsp;').replace('[amp]', '&amp;')\n",
    "\n",
    "                # Replace the old text content with the translated text content\n",
    "                if element.string:\n",
    "                    element.string.replace_with(translated_text_with_originals)\n",
    "        # Save the updated HTML to a file\n",
    "        dest_file = os.path.join(dest, file_name)\n",
    "        done =  False\n",
    "        with open(dest_file, \"w\", encoding='utf-8') as file:\n",
    "            file.write(soup.prettify())\n",
    "            done = True\n",
    "            print(F\"File ->{dest_file} translated!\")\n",
    "   \n"
   ]
  }
 ],
 "metadata": {
  "kernelspec": {
   "display_name": "Python 3 (ipykernel)",
   "language": "python",
   "name": "python3"
  },
  "language_info": {
   "codemirror_mode": {
    "name": "ipython",
    "version": 3
   },
   "file_extension": ".py",
   "mimetype": "text/x-python",
   "name": "python",
   "nbconvert_exporter": "python",
   "pygments_lexer": "ipython3",
   "version": "3.9.7"
  }
 },
 "nbformat": 4,
 "nbformat_minor": 5
}
